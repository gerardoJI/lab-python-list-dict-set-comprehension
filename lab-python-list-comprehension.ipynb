{
 "cells": [
  {
   "cell_type": "markdown",
   "id": "25d7736c-ba17-4aff-b6bb-66eba20fbf4e",
   "metadata": {},
   "source": [
    "# Lab | List, Dict and Set Comprehension"
   ]
  },
  {
   "cell_type": "markdown",
   "id": "7dd3cbde-675a-4b81-92c3-f728846dbe06",
   "metadata": {},
   "source": [
    "## Exercise: Managing Customer Orders Optimized with Comprehension"
   ]
  },
  {
   "cell_type": "markdown",
   "id": "5d500160-2fb7-4777-b5e4-09d45ebaf328",
   "metadata": {},
   "source": [
    "In the previous exercise, you developed a program to manage customer orders and inventory. Now, let's take it a step further and incorporate comprehension into your code.\n",
    "\n",
    "Follow the steps below to complete the exercise:\n",
    "\n",
    "1. Review your code from the previous exercise and identify areas where you can apply comprehension to simplify and streamline your code. \n",
    "\n",
    "    - *Hint: Apply it to initialize inventory, updating the inventory and printing the updated inventory.*\n",
    "    \n",
    "    - For example, in initializing the inventory, we could have:\n",
    "    \n",
    "        ```python\n",
    "        def initialize_inventory(products):\n",
    "            inventory = {product: int(input(f\"Enter the quantity of {product}s available: \")) for product in products}\n",
    "            return inventory\n",
    "\n",
    "        ```\n",
    "<br>\n",
    "    \n",
    "    \n",
    "2. Modify the function get_customer_orders so it prompts the user to enter the number of customer orders and gathers the product names using a loop and user input. Use comprehension.\n",
    "\n",
    "3. Add a new function to calculate the total price of the customer order. For each product in customer_orders, prompt the user to enter the price of that product. Use comprehension to calculate the total price. Note: assume that the user can only have 1 unit of each product.\n",
    "\n",
    "4. Modify the update_inventory function to remove the product from the inventory if its quantity becomes zero after fulfilling the customer orders. Use comprehension to filter out the products with a quantity of zero from the inventory.\n",
    "\n",
    "5. Print the total price of the customer order.\n",
    "\n",
    "Your code should produce output similar to the following:\n",
    "\n",
    "```python\n",
    "Enter the quantity of t-shirts available:  5\n",
    "Enter the quantity of mugs available:  4\n",
    "Enter the quantity of hats available:  3\n",
    "Enter the quantity of books available:  2\n",
    "Enter the quantity of keychains available:  1\n",
    "Enter the number of customer orders:  2\n",
    "Enter the name of a product that a customer wants to order:  hat\n",
    "Enter the name of a product that a customer wants to order:  keychain\n",
    "\n",
    "Order Statistics:\n",
    "Total Products Ordered: 2\n",
    "Percentage of Unique Products Ordered: 40.0\n",
    "\n",
    "Updated Inventory:\n",
    "t-shirt: 5\n",
    "mug: 4\n",
    "hat: 2\n",
    "book: 2\n",
    "Enter the price of keychain:  5\n",
    "Enter the price of hat:  10\n",
    "Total Price: 15.0\n",
    "\n",
    "```\n"
   ]
  },
  {
   "cell_type": "code",
   "execution_count": null,
   "id": "10732755",
   "metadata": {},
   "outputs": [],
   "source": [
    "def initialize_inventory(products):\n",
    "    \"\"\"\n",
    "    This function create a dictionary taking as keys the content in the list products, and as values, \n",
    "    the integer number that user have prompted.\n",
    "\n",
    "    Arguments: products, list type.\n",
    "    Returns: inventory, dictionary type.\n",
    "\n",
    "    \"\"\"\n",
    "    inventory = {p:int(input(f\"Introduce the number of {p} aviable in stock: \")) for p in products}\n",
    "    return inventory"
   ]
  },
  {
   "cell_type": "code",
   "execution_count": null,
   "id": "eeb5b06d",
   "metadata": {},
   "outputs": [],
   "source": [
    "def get_customer_orders():\n",
    "    \"\"\"\n",
    "    This function ask for a number n that represents total products that customer want to order.\n",
    "    Then, it create with a comprehesive list, a list of n elements, with the products names prompted by user.\n",
    "    Arguments: none\n",
    "    Returns: customer_orders, list type.\n",
    "    \"\"\"\n",
    "    n = int(input(\"Enter the number of customer orders: \"))\n",
    "    customer_orders = [input(\"Enter the name of a product that a customer wants to order: \") for _ in range(n)]\n",
    "    return customer_orders\n",
    "\n",
    "customer_orders=get_customer_orders()"
   ]
  },
  {
   "cell_type": "code",
   "execution_count": null,
   "id": "3ec0dbfd",
   "metadata": {},
   "outputs": [],
   "source": [
    "def calculate_price(customer_orders):\n",
    "    \"\"\"\n",
    "    The function generate a comprehesive dictionary, where keys are the elements in customer orders, \n",
    "    and values are float numbers for prices,  prompted by user.\n",
    "    Then, total represent the sum of all the values in the dictionary.\n",
    "\n",
    "    Arguments: customer_orders\n",
    "    Returns: total.\n",
    "    \"\"\"\n",
    "    prices = {p: float(int(input(f\"Enter the price of {p}: \"))) for p in customer_orders}\n",
    "    total=sum(prices.values())\n",
    "    return total\n",
    "\n",
    "total= calculate_price(customer_orders)"
   ]
  },
  {
   "cell_type": "code",
   "execution_count": null,
   "id": "bea92a64",
   "metadata": {},
   "outputs": [],
   "source": [
    "def update_inventory(customer_orders, inventory):\n",
    "\n",
    "    \"\"\"\n",
    "    The function generate a comprehesive dictionary, with following conditions:\n",
    "    1)Add to the dictionary the same key and value-1 as items in inventory, if key is inside custorme_orders,\n",
    "    and value is > 1.  \n",
    "\n",
    "    Arguments: customer orders, list type and  inventory, dict type.\n",
    "    Returns: inventory, dict type.\n",
    "    \"\"\"\n",
    "\n",
    "    inventory = {key: value - 1 if key in customer_orders and value > 1 else value for key, value in inventory.items() if not (key in customer_orders and value <= 1)}\n",
    "    return inventory\n"
   ]
  },
  {
   "cell_type": "code",
   "execution_count": null,
   "id": "3852d826",
   "metadata": {},
   "outputs": [],
   "source": [
    "def print_updated_inventory(inventory):\n",
    "\n",
    "    \"\"\"\n",
    "    The function generate a comprehesive list of print() method, where keys and values in inventory items\n",
    "    are added in print() method's arguments.\n",
    "    Then, total represent the sum of all the values in the dictionary.\n",
    "\n",
    "    Arguments: inventory, dict type\n",
    "    Returns: \n",
    "    \"\"\"\n",
    "\n",
    "    [print(f\"\\n {key}: {value}\") for key, value in inventory.items()]\n",
    "\n"
   ]
  },
  {
   "cell_type": "code",
   "execution_count": null,
   "id": "9f0e5605",
   "metadata": {},
   "outputs": [],
   "source": [
    "def calculate_order_statics(customer_orders, inventory):\n",
    "    total_products=len(customer_orders) #total de los productos ordenados, considerando una compra unitaria por producto\n",
    "    productos=0\n",
    "    for p in customer_orders: #loop for para sumar todos los items en stock de los productos solicitados por el cliente.\n",
    "        productos=productos+inventory[p]\n",
    "    \n",
    "    percent=round((total_products/productos)*100,2)\n",
    "    return(total_products, percent)\n",
    "\n",
    "def print_order_statics(total_products, percent):\n",
    "    print(f\"Total ordered products: {total_products}\")\n",
    "    print(f\"Percentaje ordered products about inventory: {percent} %\")"
   ]
  },
  {
   "cell_type": "code",
   "execution_count": 70,
   "id": "ee7dfdb3",
   "metadata": {},
   "outputs": [
    {
     "name": "stdout",
     "output_type": "stream",
     "text": [
      "\n",
      " t-shirt: 7\n",
      "\n",
      " mug: 1\n",
      "\n",
      " hat: 1\n",
      "\n",
      " book: 1\n",
      "\n",
      " keychain: 2\n",
      "\n",
      " t-shirt: 7\n",
      "\n",
      " book: 1\n",
      "\n",
      " keychain: 2\n",
      "\n",
      "The total amount for the order is 9.0\n"
     ]
    }
   ],
   "source": [
    "products=[\"t-shirt\", \"mug\", \"hat\", \"book\", \"keychain\"]\n",
    "inventory=initialize_inventory(products)\n",
    "print_updated_inventory(inventory)\n",
    "customer_orders=get_customer_orders()\n",
    "inventory=update_inventory(customer_orders, inventory)\n",
    "#total_products,percent=calculate_order_statics(customer_orders,inventory)\n",
    "#print_order_statics(total_products, percent)\n",
    "print_updated_inventory(inventory)\n",
    "total=calculate_price(customer_orders)\n",
    "print(f\"\\nThe total amount for the order is {total}\")"
   ]
  }
 ],
 "metadata": {
  "kernelspec": {
   "display_name": "base",
   "language": "python",
   "name": "python3"
  },
  "language_info": {
   "codemirror_mode": {
    "name": "ipython",
    "version": 3
   },
   "file_extension": ".py",
   "mimetype": "text/x-python",
   "name": "python",
   "nbconvert_exporter": "python",
   "pygments_lexer": "ipython3",
   "version": "3.12.4"
  }
 },
 "nbformat": 4,
 "nbformat_minor": 5
}
